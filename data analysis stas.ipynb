{
 "cells": [
  {
   "cell_type": "code",
   "execution_count": 22,
   "id": "cfcbebb9",
   "metadata": {},
   "outputs": [],
   "source": [
    "import pandas as pd\n",
    "import numpy as np\n",
    "import matplotlib.pyplot as plt\n",
    "import scipy.stats\n",
    "%matplotlib inline\n",
    "from scipy.stats import skew\n",
    "import pylab as p \n",
    "import statsmodels.api as sm\n",
    "from scipy.stats import norm\n",
    "from scipy.stats.mstats import gmean\n",
    "from scipy.stats.mstats import hmean\n",
    "from sklearn.feature_selection import SelectKBest\n",
    "from sklearn.feature_selection import chi2\n",
    "import seaborn as sns\n",
    "import numpy"
   ]
  },
  {
   "cell_type": "code",
   "execution_count": 23,
   "id": "83787589",
   "metadata": {},
   "outputs": [
    {
     "name": "stdout",
     "output_type": "stream",
     "text": [
      "    INCOME EXPENSES\n",
      "0   50,000   45,000\n",
      "1    30000    25000\n",
      "2    35000    35000\n",
      "3    60000    50000\n",
      "4    25000    20000\n",
      "5    30000    25000\n",
      "6    25000    22000\n",
      "7   100000   100000\n",
      "8   50,000   45,000\n",
      "9    90000    70000\n",
      "10   40000    40000\n",
      "11   20000    15000\n",
      "12   70000    50000\n",
      "13   55000    60000\n",
      "14   80000    60000\n",
      "15   20000    20000\n",
      "16   55000    60000\n",
      "17   50000    45000\n",
      "18   45000    50000\n",
      "19   45000    35000\n",
      "20   70000    60000\n",
      "21   70000    70000\n",
      "22   80000    50000\n",
      "23   95000    90000\n",
      "24   30000    25000\n"
     ]
    }
   ],
   "source": [
    "data = pd.read_csv(r'/Users/hridoy/Desktop/Research Analysis/Data Analysis statistics1 - Sheet3.tsv', sep = \"\\t\")\n",
    "\n",
    "print(data)"
   ]
  },
  {
   "cell_type": "code",
   "execution_count": 24,
   "id": "78d1ca5a",
   "metadata": {},
   "outputs": [
    {
     "name": "stdout",
     "output_type": "stream",
     "text": [
      "<class 'pandas.core.frame.DataFrame'>\n",
      "RangeIndex: 25 entries, 0 to 24\n",
      "Data columns (total 2 columns):\n",
      " #   Column    Non-Null Count  Dtype \n",
      "---  ------    --------------  ----- \n",
      " 0   INCOME    25 non-null     object\n",
      " 1   EXPENSES  25 non-null     object\n",
      "dtypes: object(2)\n",
      "memory usage: 528.0+ bytes\n"
     ]
    }
   ],
   "source": [
    "data.info()"
   ]
  },
  {
   "cell_type": "code",
   "execution_count": 25,
   "id": "1d493f9a",
   "metadata": {},
   "outputs": [],
   "source": [
    "data.replace(',','', regex=True, inplace=True)"
   ]
  },
  {
   "cell_type": "code",
   "execution_count": 26,
   "id": "eadb6e39",
   "metadata": {},
   "outputs": [
    {
     "data": {
      "text/plain": [
       "INCOME      float64\n",
       "EXPENSES    float64\n",
       "dtype: object"
      ]
     },
     "execution_count": 26,
     "metadata": {},
     "output_type": "execute_result"
    }
   ],
   "source": [
    "data['INCOME'] = data['INCOME'].astype('float')\n",
    "data['EXPENSES'] = data['EXPENSES'].astype('float')\n",
    "data.dtypes"
   ]
  },
  {
   "cell_type": "code",
   "execution_count": 27,
   "id": "1337a319",
   "metadata": {},
   "outputs": [
    {
     "name": "stdout",
     "output_type": "stream",
     "text": [
      "<class 'pandas.core.frame.DataFrame'>\n",
      "RangeIndex: 25 entries, 0 to 24\n",
      "Data columns (total 2 columns):\n",
      " #   Column    Non-Null Count  Dtype  \n",
      "---  ------    --------------  -----  \n",
      " 0   INCOME    25 non-null     float64\n",
      " 1   EXPENSES  25 non-null     float64\n",
      "dtypes: float64(2)\n",
      "memory usage: 528.0 bytes\n"
     ]
    }
   ],
   "source": [
    "data.info()"
   ]
  },
  {
   "cell_type": "code",
   "execution_count": 28,
   "id": "e6e65dc3",
   "metadata": {},
   "outputs": [
    {
     "data": {
      "text/html": [
       "<div>\n",
       "<style scoped>\n",
       "    .dataframe tbody tr th:only-of-type {\n",
       "        vertical-align: middle;\n",
       "    }\n",
       "\n",
       "    .dataframe tbody tr th {\n",
       "        vertical-align: top;\n",
       "    }\n",
       "\n",
       "    .dataframe thead th {\n",
       "        text-align: right;\n",
       "    }\n",
       "</style>\n",
       "<table border=\"1\" class=\"dataframe\">\n",
       "  <thead>\n",
       "    <tr style=\"text-align: right;\">\n",
       "      <th></th>\n",
       "      <th>INCOME</th>\n",
       "      <th>EXPENSES</th>\n",
       "    </tr>\n",
       "  </thead>\n",
       "  <tbody>\n",
       "    <tr>\n",
       "      <th>count</th>\n",
       "      <td>25.000000</td>\n",
       "      <td>25.000000</td>\n",
       "    </tr>\n",
       "    <tr>\n",
       "      <th>mean</th>\n",
       "      <td>52800.000000</td>\n",
       "      <td>46680.000000</td>\n",
       "    </tr>\n",
       "    <tr>\n",
       "      <th>std</th>\n",
       "      <td>23895.606291</td>\n",
       "      <td>21730.776946</td>\n",
       "    </tr>\n",
       "    <tr>\n",
       "      <th>min</th>\n",
       "      <td>20000.000000</td>\n",
       "      <td>15000.000000</td>\n",
       "    </tr>\n",
       "    <tr>\n",
       "      <th>25%</th>\n",
       "      <td>30000.000000</td>\n",
       "      <td>25000.000000</td>\n",
       "    </tr>\n",
       "    <tr>\n",
       "      <th>50%</th>\n",
       "      <td>50000.000000</td>\n",
       "      <td>45000.000000</td>\n",
       "    </tr>\n",
       "    <tr>\n",
       "      <th>75%</th>\n",
       "      <td>70000.000000</td>\n",
       "      <td>60000.000000</td>\n",
       "    </tr>\n",
       "    <tr>\n",
       "      <th>max</th>\n",
       "      <td>100000.000000</td>\n",
       "      <td>100000.000000</td>\n",
       "    </tr>\n",
       "  </tbody>\n",
       "</table>\n",
       "</div>"
      ],
      "text/plain": [
       "              INCOME       EXPENSES\n",
       "count      25.000000      25.000000\n",
       "mean    52800.000000   46680.000000\n",
       "std     23895.606291   21730.776946\n",
       "min     20000.000000   15000.000000\n",
       "25%     30000.000000   25000.000000\n",
       "50%     50000.000000   45000.000000\n",
       "75%     70000.000000   60000.000000\n",
       "max    100000.000000  100000.000000"
      ]
     },
     "execution_count": 28,
     "metadata": {},
     "output_type": "execute_result"
    }
   ],
   "source": [
    "data.describe()"
   ]
  },
  {
   "cell_type": "code",
   "execution_count": 31,
   "id": "8992a5f2",
   "metadata": {},
   "outputs": [
    {
     "data": {
      "text/plain": [
       "0    30000.0\n",
       "1    50000.0\n",
       "2    70000.0\n",
       "dtype: float64"
      ]
     },
     "execution_count": 31,
     "metadata": {},
     "output_type": "execute_result"
    }
   ],
   "source": [
    "data['INCOME'].mode()"
   ]
  },
  {
   "cell_type": "code",
   "execution_count": 32,
   "id": "378443f2",
   "metadata": {},
   "outputs": [
    {
     "data": {
      "text/plain": [
       "0    50000.0\n",
       "1    60000.0\n",
       "dtype: float64"
      ]
     },
     "execution_count": 32,
     "metadata": {},
     "output_type": "execute_result"
    }
   ],
   "source": [
    "data['EXPENSES'].mode()"
   ]
  },
  {
   "cell_type": "code",
   "execution_count": 33,
   "id": "bf88ccae",
   "metadata": {},
   "outputs": [
    {
     "data": {
      "text/plain": [
       "50000.0"
      ]
     },
     "execution_count": 33,
     "metadata": {},
     "output_type": "execute_result"
    }
   ],
   "source": [
    "data['INCOME'].median()"
   ]
  },
  {
   "cell_type": "code",
   "execution_count": 34,
   "id": "f8d2c7a4",
   "metadata": {},
   "outputs": [
    {
     "data": {
      "text/plain": [
       "45000.0"
      ]
     },
     "execution_count": 34,
     "metadata": {},
     "output_type": "execute_result"
    }
   ],
   "source": [
    "data['EXPENSES'].median()"
   ]
  },
  {
   "cell_type": "code",
   "execution_count": 35,
   "id": "f6725858",
   "metadata": {},
   "outputs": [
    {
     "name": "stdout",
     "output_type": "stream",
     "text": [
      "The Mean Deviation of Income is: 19536.0\n",
      "The Mean Deviation of Expenses is: 16787.2\n"
     ]
    }
   ],
   "source": [
    "md1 = data['INCOME'].mad()\n",
    "md2 = data['EXPENSES'].mad()\n",
    "print ('The Mean Deviation of Income is: ' + str(md1))\n",
    "print ('The Mean Deviation of Expenses is: ' + str(md2))"
   ]
  },
  {
   "cell_type": "code",
   "execution_count": 36,
   "id": "ccb01401",
   "metadata": {},
   "outputs": [
    {
     "name": "stdout",
     "output_type": "stream",
     "text": [
      "The Standard Deviation of Income is: 23895.60629069704\n",
      "The Standard Deviation of Expenses is: 21730.776945766727\n"
     ]
    }
   ],
   "source": [
    "std1 = data['INCOME'].std()\n",
    "std2 = data['EXPENSES'].std()\n",
    "print ('The Standard Deviation of Income is: ' + str(std1))\n",
    "print ('The Standard Deviation of Expenses is: ' + str(std2))"
   ]
  },
  {
   "cell_type": "code",
   "execution_count": 37,
   "id": "4aaf9d31",
   "metadata": {},
   "outputs": [
    {
     "name": "stdout",
     "output_type": "stream",
     "text": [
      "The varience of Income is: 571000000.0\n",
      "The varience  of Expenses is: 472226666.6666667\n"
     ]
    }
   ],
   "source": [
    "var1 = data['INCOME'].var()\n",
    "var2 = data['EXPENSES'].var()\n",
    "print ('The varience of Income is: ' + str(var1))\n",
    "print ('The varience  of Expenses is: ' + str(var2))"
   ]
  },
  {
   "cell_type": "code",
   "execution_count": 51,
   "id": "8ae8ee99",
   "metadata": {},
   "outputs": [
    {
     "name": "stdout",
     "output_type": "stream",
     "text": [
      "The coeffient varience of Income is: 45.25683009601712\n",
      "The coeffient varience  of Expenses is: 46.552649840974134\n"
     ]
    }
   ],
   "source": [
    "mean1 = data['INCOME'].mean()\n",
    "mean2 = data['EXPENSES'].mean()\n",
    "std1 = data['INCOME'].std()\n",
    "std2 = data['EXPENSES'].std()\n",
    "cv1 = (std1/mean1)*100\n",
    "cv2 = (std2/mean2)*100\n",
    "\n",
    "print ('The coeffient varience of Income is: ' + str(cv1))\n",
    "print ('The coeffient varience  of Expenses is: ' + str(cv2))"
   ]
  },
  {
   "cell_type": "code",
   "execution_count": 39,
   "id": "dfade7be",
   "metadata": {},
   "outputs": [
    {
     "name": "stdout",
     "output_type": "stream",
     "text": [
      "The Geometric Mean of Income is: 47472.636016361\n",
      "The Geometric Mean of Expenses is: 41752.8425222207\n"
     ]
    }
   ],
   "source": [
    "gm1 = gmean(data.loc[:,'INCOME'])\n",
    "gm2 = gmean(data.loc[:,'EXPENSES'])\n",
    "print ('The Geometric Mean of Income is: ' + str(gm1))\n",
    "print ('The Geometric Mean of Expenses is: ' + str(gm2))"
   ]
  },
  {
   "cell_type": "code",
   "execution_count": 40,
   "id": "113a779e",
   "metadata": {},
   "outputs": [
    {
     "name": "stdout",
     "output_type": "stream",
     "text": [
      "The Harmonic Mean of Income is: 42334.08139512452\n",
      "The Harmonic Mean of Expenses is: 36912.35844936135\n"
     ]
    }
   ],
   "source": [
    "hm1 = hmean(data.loc[:,'INCOME'])\n",
    "hm2 = hmean(data.loc[:,'EXPENSES'])\n",
    "print ('The Harmonic Mean of Income is: ' + str(hm1))\n",
    "print ('The Harmonic Mean of Expenses is: ' + str(hm2))"
   ]
  },
  {
   "cell_type": "code",
   "execution_count": 41,
   "id": "c0af64a5",
   "metadata": {},
   "outputs": [
    {
     "name": "stdout",
     "output_type": "stream",
     "text": [
      "The boxplot of Income is: AxesSubplot(0.125,0.125;0.775x0.755)\n"
     ]
    },
    {
     "name": "stderr",
     "output_type": "stream",
     "text": [
      "/Users/hridoy/opt/anaconda3/lib/python3.9/site-packages/seaborn/_decorators.py:36: FutureWarning: Pass the following variable as a keyword arg: x. From version 0.12, the only valid positional argument will be `data`, and passing other arguments without an explicit keyword will result in an error or misinterpretation.\n",
      "  warnings.warn(\n"
     ]
    },
    {
     "data": {
      "image/png": "[encoded data removed]",
      "text/plain": [
       "<Figure size 432x288 with 1 Axes>"
      ]
     },
     "metadata": {
      "needs_background": "light"
     },
     "output_type": "display_data"
    }
   ],
   "source": [
    "bp1 = sns.boxplot(data.INCOME);\n",
    "print ('The boxplot of Income is: ' + str(bp1))\n"
   ]
  },
  {
   "cell_type": "code",
   "execution_count": 42,
   "id": "94be5e14",
   "metadata": {},
   "outputs": [
    {
     "name": "stdout",
     "output_type": "stream",
     "text": [
      "The boxplot of Income is: AxesSubplot(0.125,0.125;0.775x0.755)\n"
     ]
    },
    {
     "name": "stderr",
     "output_type": "stream",
     "text": [
      "/Users/hridoy/opt/anaconda3/lib/python3.9/site-packages/seaborn/_decorators.py:36: FutureWarning: Pass the following variable as a keyword arg: x. From version 0.12, the only valid positional argument will be `data`, and passing other arguments without an explicit keyword will result in an error or misinterpretation.\n",
      "  warnings.warn(\n"
     ]
    },
    {
     "data": {
      "image/png": "[encoded data removed]",
      "text/plain": [
       "<Figure size 432x288 with 1 Axes>"
      ]
     },
     "metadata": {
      "needs_background": "light"
     },
     "output_type": "display_data"
    }
   ],
   "source": [
    "bp2 = sns.boxplot(data.EXPENSES);\n",
    "print ('The boxplot of Income is: ' + str(bp2))"
   ]
  },
  {
   "cell_type": "code",
   "execution_count": 43,
   "id": "61656b75",
   "metadata": {},
   "outputs": [
    {
     "name": "stdout",
     "output_type": "stream",
     "text": [
      "The Pearsons r is: 0.9333935121613717\n",
      "The Pearsons r is: 0.9333935121613718\n",
      "The Spearmans rho is: 0.9475966663373181\n",
      "The Spearmans rho is: 0.9475966663373181\n"
     ]
    }
   ],
   "source": [
    "x = data['INCOME']\n",
    "y = data['EXPENSES']\n",
    "r1 = x.corr(y) # Pearson's r\n",
    "r2 = y.corr(x) # Pearson's r\n",
    "rho1 = x.corr(y, method='spearman')  # Spearman's rho\n",
    "rho2 = y.corr(x, method='spearman') # Spearman's rho\n",
    "\n",
    "print ('The Pearsons r is: ' + str(r1))\n",
    "print ('The Pearsons r is: ' + str(r2))\n",
    "print ('The Spearmans rho is: ' + str(rho1))\n",
    "print ('The Spearmans rho is: ' + str(rho2))"
   ]
  },
  {
   "cell_type": "code",
   "execution_count": 44,
   "id": "6d5ce9f4",
   "metadata": {},
   "outputs": [
    {
     "data": {
      "image/png": "[encoded data removed]",
      "text/plain": [
       "<Figure size 432x288 with 1 Axes>"
      ]
     },
     "metadata": {
      "needs_background": "light"
     },
     "output_type": "display_data"
    }
   ],
   "source": [
    "X = data.iloc[:, :-1].values \n",
    "\n",
    "y = data.iloc[:, 1].values \n",
    "\n",
    "from sklearn.model_selection import train_test_split \n",
    "\n",
    "X_train, X_test, y_train, y_test = train_test_split(X, y, test_size=0.5, random_state=0) \n",
    "\n",
    "from sklearn.linear_model import LinearRegression \n",
    "\n",
    "regressor = LinearRegression() \n",
    "\n",
    "regressor.fit(X_train, y_train) \n",
    "\n",
    "y_pred = regressor.predict(X_test)\n",
    "\n",
    "plt.scatter(X_train, y_train,color='g') \n",
    "\n",
    "plt.plot(X_test, y_pred,color='k') \n",
    "\n",
    "\n",
    "\n",
    "plt.show()"
   ]
  },
  {
   "cell_type": "code",
   "execution_count": 45,
   "id": "d874e19c",
   "metadata": {},
   "outputs": [
    {
     "data": {
      "image/png": "[encoded data removed]",
      "text/plain": [
       "<Figure size 432x288 with 1 Axes>"
      ]
     },
     "metadata": {
      "needs_background": "light"
     },
     "output_type": "display_data"
    }
   ],
   "source": [
    "ax = sns.scatterplot(x=\"EXPENSES\", y=\"INCOME\", data=data)\n",
    "ax.set_title(\"INCOME vs. EXPENSES\")\n",
    "ax.set_xlabel(\"EXPENSES\");"
   ]
  },
  {
   "cell_type": "code",
   "execution_count": 46,
   "id": "f5827940",
   "metadata": {},
   "outputs": [
    {
     "data": {
      "image/png": "[encoded data removed]",
      "text/plain": [
       "<Figure size 432x288 with 1 Axes>"
      ]
     },
     "metadata": {
      "needs_background": "light"
     },
     "output_type": "display_data"
    }
   ],
   "source": [
    "x = data['INCOME']\n",
    "plt.hist(x)\n",
    "plt.show()"
   ]
  },
  {
   "cell_type": "code",
   "execution_count": 47,
   "id": "53471426",
   "metadata": {},
   "outputs": [
    {
     "data": {
      "image/png": "[encoded data removed]",
      "text/plain": [
       "<Figure size 432x288 with 1 Axes>"
      ]
     },
     "metadata": {
      "needs_background": "light"
     },
     "output_type": "display_data"
    }
   ],
   "source": [
    "y = data['EXPENSES']\n",
    "plt.hist(y)\n",
    "plt.show()"
   ]
  },
  {
   "cell_type": "code",
   "execution_count": null,
   "id": "9e389a1c",
   "metadata": {},
   "outputs": [],
   "source": []
  },
  {
   "cell_type": "code",
   "execution_count": 48,
   "id": "8675dc39",
   "metadata": {},
   "outputs": [
    {
     "data": {
      "image/png": "[encoded data removed]",
      "text/plain": [
       "<Figure size 432x288 with 1 Axes>"
      ]
     },
     "metadata": {
      "needs_background": "light"
     },
     "output_type": "display_data"
    }
   ],
   "source": [
    "x = data['INCOME']\n",
    "\n",
    "plt.hist(x, 100)\n",
    "plt.show()"
   ]
  },
  {
   "cell_type": "code",
   "execution_count": 49,
   "id": "1c90e5e2",
   "metadata": {},
   "outputs": [
    {
     "data": {
      "image/png": "[encoded data removed]",
      "text/plain": [
       "<Figure size 432x288 with 1 Axes>"
      ]
     },
     "metadata": {
      "needs_background": "light"
     },
     "output_type": "display_data"
    }
   ],
   "source": [
    "y = data['EXPENSES']\n",
    "\n",
    "plt.hist(y, 100)\n",
    "plt.show()"
   ]
  },
  {
   "cell_type": "code",
   "execution_count": null,
   "id": "b4bcf32d",
   "metadata": {},
   "outputs": [],
   "source": []
  },
  {
   "cell_type": "code",
   "execution_count": null,
   "id": "f6e1af20",
   "metadata": {},
   "outputs": [],
   "source": []
  },
  {
   "cell_type": "code",
   "execution_count": null,
   "id": "38d8f831",
   "metadata": {},
   "outputs": [],
   "source": []
  },
  {
   "cell_type": "code",
   "execution_count": null,
   "id": "a420e0ff",
   "metadata": {},
   "outputs": [],
   "source": []
  }
 ],
 "metadata": {
  "kernelspec": {
   "display_name": "Python 3 (ipykernel)",
   "language": "python",
   "name": "python3"
  },
  "language_info": {
   "codemirror_mode": {
    "name": "ipython",
    "version": 3
   },
   "file_extension": ".py",
   "mimetype": "text/x-python",
   "name": "python",
   "nbconvert_exporter": "python",
   "pygments_lexer": "ipython3",
   "version": "3.9.7"
  }
 },
 "nbformat": 4,
 "nbformat_minor": 5
}
